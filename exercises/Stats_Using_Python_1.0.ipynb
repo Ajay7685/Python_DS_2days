{
 "cells": [
  {
   "cell_type": "code",
   "execution_count": 68,
   "metadata": {
    "collapsed": true
   },
   "outputs": [],
   "source": [
    "import os"
   ]
  },
  {
   "cell_type": "code",
   "execution_count": 69,
   "metadata": {
    "collapsed": false
   },
   "outputs": [
    {
     "data": {
      "text/plain": [
       "'G:\\\\Data Science\\\\Python\\\\MyTutorials\\\\python basics'"
      ]
     },
     "execution_count": 69,
     "metadata": {},
     "output_type": "execute_result"
    }
   ],
   "source": [
    "# Check current directory\n",
    "os.getcwd()"
   ]
  },
  {
   "cell_type": "code",
   "execution_count": 70,
   "metadata": {
    "collapsed": false
   },
   "outputs": [
    {
     "data": {
      "text/plain": [
       "['.ipynb_checkpoints',\n",
       " 'infosys.csv',\n",
       " 'infosys.xlsx',\n",
       " 'python-tutorial.pdf',\n",
       " 'Python.pdf',\n",
       " 'Python_Basics_1.0.ipynb',\n",
       " 'python_lecture_2_psbc.pdf',\n",
       " 'Stats_Using_Python_1.0.ipynb']"
      ]
     },
     "execution_count": 70,
     "metadata": {},
     "output_type": "execute_result"
    }
   ],
   "source": [
    "#Check which all files are in the program\n",
    "os.listdir()"
   ]
  },
  {
   "cell_type": "code",
   "execution_count": 71,
   "metadata": {
    "collapsed": true
   },
   "outputs": [],
   "source": [
    "fname = \"infosys.csv\""
   ]
  },
  {
   "cell_type": "code",
   "execution_count": 72,
   "metadata": {
    "collapsed": false
   },
   "outputs": [],
   "source": [
    "with open(fname) as f:\n",
    "    content = f.readlines() "
   ]
  },
  {
   "cell_type": "code",
   "execution_count": 73,
   "metadata": {
    "collapsed": false
   },
   "outputs": [
    {
     "data": {
      "text/plain": [
       "['Date,Open,High,Low,Close\\n',\n",
       " 'Dec-15,1088.5,1093.05,1023.5,1046.4\\n',\n",
       " 'Nov-15,1130,1155.6,1012.25,1088.45\\n',\n",
       " 'Oct-15,1169.9,1219,1087.1,1136.05\\n',\n",
       " 'Sep-15,1089.95,1165.35,1052.35,1160.45\\n',\n",
       " 'Aug-15,1080,1186,1045,1095.2\\n',\n",
       " 'Jul-15,990,1127.75,932.55,1078.05\\n',\n",
       " 'Jun-15,1015,1031.5,968.5,985.35\\n',\n",
       " 'May-15,980.5,1030.5,955,1011.2\\n',\n",
       " 'Apr-15,1104.7,1122,966.33,971.2\\n',\n",
       " 'Mar-15,1150,1156.75,1065,1108.3\\n',\n",
       " 'Feb-15,1070,1167.6,1051.53,1147.43\\n',\n",
       " 'Jan-15,983.9,1111,957.05,1071.38\\n']"
      ]
     },
     "execution_count": 73,
     "metadata": {},
     "output_type": "execute_result"
    }
   ],
   "source": [
    "content"
   ]
  },
  {
   "cell_type": "code",
   "execution_count": 74,
   "metadata": {
    "collapsed": false
   },
   "outputs": [
    {
     "data": {
      "text/plain": [
       "13"
      ]
     },
     "execution_count": 74,
     "metadata": {},
     "output_type": "execute_result"
    }
   ],
   "source": [
    "len( content )"
   ]
  },
  {
   "cell_type": "code",
   "execution_count": 75,
   "metadata": {
    "collapsed": true
   },
   "outputs": [],
   "source": [
    "content = list( map( lambda x: x.strip('\\n'), content ) )"
   ]
  },
  {
   "cell_type": "code",
   "execution_count": 76,
   "metadata": {
    "collapsed": false
   },
   "outputs": [],
   "source": [
    "header = content[0]"
   ]
  },
  {
   "cell_type": "code",
   "execution_count": 77,
   "metadata": {
    "collapsed": false
   },
   "outputs": [
    {
     "data": {
      "text/plain": [
       "'Date,Open,High,Low,Close'"
      ]
     },
     "execution_count": 77,
     "metadata": {},
     "output_type": "execute_result"
    }
   ],
   "source": [
    "header"
   ]
  },
  {
   "cell_type": "code",
   "execution_count": 78,
   "metadata": {
    "collapsed": true
   },
   "outputs": [],
   "source": [
    "monthly = content[1:]"
   ]
  },
  {
   "cell_type": "code",
   "execution_count": 79,
   "metadata": {
    "collapsed": false
   },
   "outputs": [
    {
     "data": {
      "text/plain": [
       "['Dec-15,1088.5,1093.05,1023.5,1046.4',\n",
       " 'Nov-15,1130,1155.6,1012.25,1088.45',\n",
       " 'Oct-15,1169.9,1219,1087.1,1136.05',\n",
       " 'Sep-15,1089.95,1165.35,1052.35,1160.45',\n",
       " 'Aug-15,1080,1186,1045,1095.2',\n",
       " 'Jul-15,990,1127.75,932.55,1078.05',\n",
       " 'Jun-15,1015,1031.5,968.5,985.35',\n",
       " 'May-15,980.5,1030.5,955,1011.2',\n",
       " 'Apr-15,1104.7,1122,966.33,971.2',\n",
       " 'Mar-15,1150,1156.75,1065,1108.3',\n",
       " 'Feb-15,1070,1167.6,1051.53,1147.43',\n",
       " 'Jan-15,983.9,1111,957.05,1071.38']"
      ]
     },
     "execution_count": 79,
     "metadata": {},
     "output_type": "execute_result"
    }
   ],
   "source": [
    "monthly"
   ]
  },
  {
   "cell_type": "code",
   "execution_count": 80,
   "metadata": {
    "collapsed": true
   },
   "outputs": [],
   "source": [
    "monthly.reverse()"
   ]
  },
  {
   "cell_type": "code",
   "execution_count": 81,
   "metadata": {
    "collapsed": false
   },
   "outputs": [
    {
     "data": {
      "text/plain": [
       "['Jan-15,983.9,1111,957.05,1071.38',\n",
       " 'Feb-15,1070,1167.6,1051.53,1147.43',\n",
       " 'Mar-15,1150,1156.75,1065,1108.3',\n",
       " 'Apr-15,1104.7,1122,966.33,971.2',\n",
       " 'May-15,980.5,1030.5,955,1011.2',\n",
       " 'Jun-15,1015,1031.5,968.5,985.35',\n",
       " 'Jul-15,990,1127.75,932.55,1078.05',\n",
       " 'Aug-15,1080,1186,1045,1095.2',\n",
       " 'Sep-15,1089.95,1165.35,1052.35,1160.45',\n",
       " 'Oct-15,1169.9,1219,1087.1,1136.05',\n",
       " 'Nov-15,1130,1155.6,1012.25,1088.45',\n",
       " 'Dec-15,1088.5,1093.05,1023.5,1046.4']"
      ]
     },
     "execution_count": 81,
     "metadata": {},
     "output_type": "execute_result"
    }
   ],
   "source": [
    "monthly"
   ]
  },
  {
   "cell_type": "code",
   "execution_count": 82,
   "metadata": {
    "collapsed": true
   },
   "outputs": [],
   "source": [
    "def calculateGains( month ):\n",
    "    fields = month.split(',')\n",
    "    openPrice = float( fields[1] )\n",
    "    closePrice = float( fields[4] )\n",
    "    gain = ( closePrice - openPrice ) * 100 / openPrice\n",
    "    month = fields[0]\n",
    "    return month, gain;"
   ]
  },
  {
   "cell_type": "code",
   "execution_count": 83,
   "metadata": {
    "collapsed": true
   },
   "outputs": [],
   "source": [
    "mgains = {}"
   ]
  },
  {
   "cell_type": "code",
   "execution_count": 84,
   "metadata": {
    "collapsed": false
   },
   "outputs": [],
   "source": [
    "for aMonth in monthly:\n",
    "    month, gain = calculateGains( aMonth )\n",
    "    mgains[month] = gain"
   ]
  },
  {
   "cell_type": "code",
   "execution_count": 85,
   "metadata": {
    "collapsed": false
   },
   "outputs": [
    {
     "data": {
      "text/plain": [
       "{'Apr-15': -12.084728885670318,\n",
       " 'Aug-15': 1.4074074074074117,\n",
       " 'Dec-15': -3.86770785484611,\n",
       " 'Feb-15': 7.236448598130847,\n",
       " 'Jan-15': 8.891147474336837,\n",
       " 'Jul-15': 8.893939393939391,\n",
       " 'Jun-15': -2.92118226600985,\n",
       " 'Mar-15': -3.626086956521743,\n",
       " 'May-15': 3.131055583885777,\n",
       " 'Nov-15': -3.6769911504424737,\n",
       " 'Oct-15': -2.893409693136177,\n",
       " 'Sep-15': 6.468186614064865}"
      ]
     },
     "execution_count": 85,
     "metadata": {},
     "output_type": "execute_result"
    }
   ],
   "source": [
    "mgains"
   ]
  },
  {
   "cell_type": "code",
   "execution_count": 86,
   "metadata": {
    "collapsed": false
   },
   "outputs": [],
   "source": [
    "import matplotlib.pyplot as plt\n",
    "%matplotlib inline"
   ]
  },
  {
   "cell_type": "code",
   "execution_count": 87,
   "metadata": {
    "collapsed": false
   },
   "outputs": [
    {
     "data": {
      "text/plain": [
       "[<matplotlib.lines.Line2D at 0x54adc50>]"
      ]
     },
     "execution_count": 87,
     "metadata": {},
     "output_type": "execute_result"
    },
    {
     "data": {
      "image/png": "[encoded data removed]",
      "text/plain": [
       "<matplotlib.figure.Figure at 0x5b112e8>"
      ]
     },
     "metadata": {},
     "output_type": "display_data"
    }
   ],
   "source": [
    "plt.plot( list( mgains.values() ) )"
   ]
  },
  {
   "cell_type": "code",
   "execution_count": 91,
   "metadata": {
    "collapsed": true
   },
   "outputs": [],
   "source": [
    "import numpy as np"
   ]
  },
  {
   "cell_type": "code",
   "execution_count": 106,
   "metadata": {
    "collapsed": false
   },
   "outputs": [],
   "source": [
    "gainsar = np.asarray( list( mgains.values() ) )"
   ]
  },
  {
   "cell_type": "code",
   "execution_count": 109,
   "metadata": {
    "collapsed": false
   },
   "outputs": [
    {
     "data": {
      "text/plain": [
       "8.8939393939393909"
      ]
     },
     "execution_count": 109,
     "metadata": {},
     "output_type": "execute_result"
    }
   ],
   "source": [
    "gainsar.max()"
   ]
  },
  {
   "cell_type": "code",
   "execution_count": 114,
   "metadata": {
    "collapsed": false
   },
   "outputs": [],
   "source": [
    "def getstat( gains ):\n",
    "    gainsar = np.asarray( list( gains ) )\n",
    "    return gainsar.max() , gainsar.min() , gainsar.mean() "
   ]
  },
  {
   "cell_type": "code",
   "execution_count": 115,
   "metadata": {
    "collapsed": false
   },
   "outputs": [],
   "source": [
    "stats = list( getstat( mgains.values() ) )"
   ]
  },
  {
   "cell_type": "code",
   "execution_count": 116,
   "metadata": {
    "collapsed": false
   },
   "outputs": [
    {
     "data": {
      "text/plain": [
       "[8.8939393939393909, -12.084728885670318, 0.57983985542820471]"
      ]
     },
     "execution_count": 116,
     "metadata": {},
     "output_type": "execute_result"
    }
   ],
   "source": [
    "stats"
   ]
  },
  {
   "cell_type": "code",
   "execution_count": 63,
   "metadata": {
    "collapsed": false
   },
   "outputs": [
    {
     "name": "stdout",
     "output_type": "stream",
     "text": [
      "8.89 -12.08 0.58\n"
     ]
    }
   ],
   "source": [
    "print( \" \".join('%0.2f' % item for item in stats ) )"
   ]
  }
 ],
 "metadata": {
  "kernelspec": {
   "display_name": "Python 3",
   "language": "python",
   "name": "python3"
  },
  "language_info": {
   "codemirror_mode": {
    "name": "ipython",
    "version": 3
   },
   "file_extension": ".py",
   "mimetype": "text/x-python",
   "name": "python",
   "nbconvert_exporter": "python",
   "pygments_lexer": "ipython3",
   "version": "3.4.3"
  }
 },
 "nbformat": 4,
 "nbformat_minor": 0
}
